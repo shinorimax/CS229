{
 "cells": [
  {
   "cell_type": "code",
   "execution_count": 4,
   "metadata": {},
   "outputs": [],
   "source": [
    "# Import Libraries\n",
    "import pandas as pd\n",
    "import numpy as np\n",
    "import time\n",
    "from sklearn.model_selection import train_test_split\n",
    "from sklearn.ensemble import AdaBoostClassifier\n",
    "from sklearn.tree import DecisionTreeClassifier\n",
    "from tqdm.notebook import tqdm  # Use notebook version for Jupyter\n",
    "import matplotlib.pyplot as plt\n",
    "import seaborn as sns\n",
    "import os\n",
    "import joblib\n",
    "import xgboost as xgb\n",
    "from datetime import datetime"
   ]
  },
  {
   "cell_type": "code",
   "execution_count": 5,
   "metadata": {},
   "outputs": [
    {
     "name": "stdout",
     "output_type": "stream",
     "text": [
      "Loaded BDT Model 1 from models/bdt_model_bg1_depth2_n100_lr0.1.joblib\n",
      "Loaded BDT Model 2 from models/bdt_model_bg2_depth2_n100_lr0.1.joblib\n",
      "Loaded BDT Model 3 from models/bdt_model_bg3_depth2_n100_lr0.1.joblib\n",
      "Loaded BDT Model 4 from models/bdt_model_bg4_depth2_n100_lr0.1.joblib\n",
      "Loaded BDT Model 5 from models/bdt_model_bg5_depth2_n100_lr0.1.joblib\n",
      "Loaded BDT Model 6 from models/bdt_model_bg6_depth2_n100_lr0.1.joblib\n",
      "Loaded BDT Model 7 from models/bdt_model_bg7_depth2_n100_lr0.1.joblib\n",
      "Loaded BDT Model 8 from models/bdt_model_bg8_depth2_n100_lr0.1.joblib\n",
      "Loaded BDT Model 9 from models/bdt_model_bg9_depth2_n100_lr0.1.joblib\n",
      "Loaded BDT Model 10 from models/bdt_model_bg10_depth2_n100_lr0.1.joblib\n",
      "Loaded BDT Model 11 from models/bdt_model_bg11_depth2_n100_lr0.1.joblib\n",
      "Loaded BDT Model 12 from models/bdt_model_bg12_depth2_n100_lr0.1.joblib\n",
      "Loaded XGBoost Model 1 from xgb_models/xgb_model_bg1_depth2_n100_lr0.1.model\n",
      "Loaded XGBoost Model 2 from xgb_models/xgb_model_bg2_depth2_n100_lr0.1.model\n",
      "Loaded XGBoost Model 3 from xgb_models/xgb_model_bg3_depth2_n100_lr0.1.model\n",
      "Loaded XGBoost Model 4 from xgb_models/xgb_model_bg4_depth2_n100_lr0.1.model\n",
      "Loaded XGBoost Model 5 from xgb_models/xgb_model_bg5_depth2_n100_lr0.1.model\n",
      "Loaded XGBoost Model 6 from xgb_models/xgb_model_bg6_depth2_n100_lr0.1.model\n",
      "Loaded XGBoost Model 7 from xgb_models/xgb_model_bg7_depth2_n100_lr0.1.model\n",
      "Loaded XGBoost Model 8 from xgb_models/xgb_model_bg8_depth2_n100_lr0.1.model\n",
      "Loaded XGBoost Model 9 from xgb_models/xgb_model_bg9_depth2_n100_lr0.1.model\n",
      "Loaded XGBoost Model 10 from xgb_models/xgb_model_bg10_depth2_n100_lr0.1.model\n",
      "Loaded XGBoost Model 11 from xgb_models/xgb_model_bg11_depth2_n100_lr0.1.model\n",
      "Loaded XGBoost Model 12 from xgb_models/xgb_model_bg12_depth2_n100_lr0.1.model\n"
     ]
    }
   ],
   "source": [
    "# Load BDT models\n",
    "bdt_models = []\n",
    "for i in range(12):\n",
    "    filename = f\"bdt_model_bg{i+1}_depth2_n100_lr0.1.joblib\"\n",
    "    filepath = os.path.join(\"models\", filename)\n",
    "    \n",
    "    if os.path.exists(filepath):\n",
    "        model = joblib.load(filepath)\n",
    "        bdt_models.append(model)\n",
    "        print(f\"Loaded BDT Model {i+1} from {filepath}\")\n",
    "    else:\n",
    "        print(f\"Model {i+1} not found, you may need to train it first.\")\n",
    "\n",
    "# Load XGBoost models\n",
    "xgb_models = []\n",
    "for i in range(12):\n",
    "    filename = f\"xgb_model_bg{i+1}_depth2_n100_lr0.1.model\"\n",
    "    filepath = os.path.join(\"xgb_models\", filename)\n",
    "    \n",
    "    if os.path.exists(filepath):\n",
    "        model = xgb.Booster()\n",
    "        model.load_model(filepath)\n",
    "        xgb_models.append(model)\n",
    "        print(f\"Loaded XGBoost Model {i+1} from {filepath}\")\n",
    "    else:\n",
    "        print(f\"Model {i+1} not found, you may need to train it first.\")"
   ]
  }
 ],
 "metadata": {
  "kernelspec": {
   "display_name": "myenv",
   "language": "python",
   "name": "python3"
  },
  "language_info": {
   "codemirror_mode": {
    "name": "ipython",
    "version": 3
   },
   "file_extension": ".py",
   "mimetype": "text/x-python",
   "name": "python",
   "nbconvert_exporter": "python",
   "pygments_lexer": "ipython3",
   "version": "3.12.4"
  }
 },
 "nbformat": 4,
 "nbformat_minor": 2
}
