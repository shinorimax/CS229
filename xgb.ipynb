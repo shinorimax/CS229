{
 "cells": [
  {
   "cell_type": "code",
   "execution_count": 5,
   "metadata": {},
   "outputs": [],
   "source": [
    "# Import Libraries\n",
    "import pandas as pd\n",
    "import numpy as np\n",
    "import time\n",
    "from sklearn.model_selection import train_test_split\n",
    "from sklearn.ensemble import AdaBoostClassifier\n",
    "from sklearn.tree import DecisionTreeClassifier\n",
    "from tqdm.notebook import tqdm  # Use notebook version for Jupyter\n",
    "import matplotlib.pyplot as plt\n",
    "import seaborn as sns\n",
    "import os\n",
    "import joblib\n",
    "import xgboost as xgb\n",
    "from datetime import datetime"
   ]
  },
  {
   "cell_type": "code",
   "execution_count": null,
   "metadata": {},
   "outputs": [
    {
     "name": "stdout",
     "output_type": "stream",
     "text": [
      "Background 0: BWW.csv\n",
      "Background 1: BZH.csv\n",
      "Background 2: BZZ.csv\n",
      "Background 3: Bpebb.csv\n",
      "Background 4: Bpebbqq.csv\n",
      "Background 5: BpeqqH.csv\n",
      "Background 6: Bpett.csv\n",
      "Background 7: Bqq.csv\n",
      "Background 8: BqqHX.csv\n",
      "Background 9: BqqX.csv\n",
      "Background 10: BqqqqX.csv\n",
      "Background 11: Btt.csv\n"
     ]
    }
   ],
   "source": [
    "# Define the folder containing the raw dataset files\n",
    "raw_data_folder = \"raw dataset\"  # Update with your actual folder path\n",
    "\n",
    "# Get all file names in the folder\n",
    "all_files = sorted([f for f in os.listdir(raw_data_folder) if f.endswith(\".csv\")])\n",
    "\n",
    "# Identify signal and background files\n",
    "signal_file = [f for f in all_files if \"signal\" in f.lower()][0]  # Assumes \"signal\" is in filename\n",
    "background_files = sorted([f for f in all_files if \"B\" in f.upper()])  # Assumes \"B\" in filename means background\n",
    "\n",
    "# Load the signal dataset and add a label column\n",
    "signal_df = pd.read_csv(os.path.join(raw_data_folder, signal_file))\n",
    "signal_df[\"label\"] = 1  # Assign label 1 for signal events\n",
    "\n",
    "# Load background datasets and add a label column\n",
    "background_dfs = []\n",
    "background_labels = []  # Store filenames for indexing reference\n",
    "\n",
    "for idx, bg_file in enumerate(background_files):\n",
    "    bg_df = pd.read_csv(os.path.join(raw_data_folder, bg_file))\n",
    "    bg_df[\"label\"] = 0  # Assign label 0 for background events\n",
    "    background_dfs.append(bg_df)\n",
    "    background_labels.append(bg_file)  # Store file name for reference\n",
    "    print(f\"Background {idx}: {bg_file}\")  # Print index and file name\n",
    "\n",
    "# Extract features (X) and labels (y)\n",
    "X_signal = signal_df.iloc[:, :-1]  # Features for signal\n",
    "y_signal = signal_df.iloc[:, -1]   # Labels for signal\n",
    "\n",
    "X_backgrounds = [bg.iloc[:, :-1] for bg in background_dfs]  # Features for each background dataset\n",
    "y_backgrounds = [bg.iloc[:, -1] for bg in background_dfs]  # Labels"
   ]
  },
  {
   "cell_type": "code",
   "execution_count": 7,
   "metadata": {},
   "outputs": [
    {
     "name": "stdout",
     "output_type": "stream",
     "text": [
      "\n",
      "Starting XGBoost Training...\n",
      "\n"
     ]
    },
    {
     "data": {
      "application/vnd.jupyter.widget-view+json": {
       "model_id": "484c73b4c720417087e00987f54c2aff",
       "version_major": 2,
       "version_minor": 0
      },
      "text/plain": [
       "Training Progress:   0%|          | 0/12 [00:00<?, ?model/s]"
      ]
     },
     "metadata": {},
     "output_type": "display_data"
    },
    {
     "name": "stderr",
     "output_type": "stream",
     "text": [
      "/Users/yagishinnosuke/Documents/2024-2025 Stanford/CS229/Final Project/myenv/lib/python3.12/site-packages/xgboost/core.py:158: UserWarning: [15:55:08] WARNING: /Users/runner/work/xgboost/xgboost/src/learner.cc:740: \n",
      "Parameters: { \"n_estimators\" } are not used.\n",
      "\n",
      "  warnings.warn(smsg, UserWarning)\n"
     ]
    },
    {
     "name": "stdout",
     "output_type": "stream",
     "text": [
      "Model 1/12 trained on BWW.csv (Time: 0.79 sec)\n"
     ]
    },
    {
     "name": "stderr",
     "output_type": "stream",
     "text": [
      "/Users/yagishinnosuke/Documents/2024-2025 Stanford/CS229/Final Project/myenv/lib/python3.12/site-packages/xgboost/core.py:158: UserWarning: [15:55:09] WARNING: /Users/runner/work/xgboost/xgboost/src/learner.cc:740: \n",
      "Parameters: { \"n_estimators\" } are not used.\n",
      "\n",
      "  warnings.warn(smsg, UserWarning)\n"
     ]
    },
    {
     "name": "stdout",
     "output_type": "stream",
     "text": [
      "Model 2/12 trained on BZH.csv (Time: 1.14 sec)\n"
     ]
    },
    {
     "name": "stderr",
     "output_type": "stream",
     "text": [
      "/Users/yagishinnosuke/Documents/2024-2025 Stanford/CS229/Final Project/myenv/lib/python3.12/site-packages/xgboost/core.py:158: UserWarning: [15:55:10] WARNING: /Users/runner/work/xgboost/xgboost/src/learner.cc:740: \n",
      "Parameters: { \"n_estimators\" } are not used.\n",
      "\n",
      "  warnings.warn(smsg, UserWarning)\n"
     ]
    },
    {
     "name": "stdout",
     "output_type": "stream",
     "text": [
      "Model 3/12 trained on BZZ.csv (Time: 1.09 sec)\n"
     ]
    },
    {
     "name": "stderr",
     "output_type": "stream",
     "text": [
      "/Users/yagishinnosuke/Documents/2024-2025 Stanford/CS229/Final Project/myenv/lib/python3.12/site-packages/xgboost/core.py:158: UserWarning: [15:55:11] WARNING: /Users/runner/work/xgboost/xgboost/src/learner.cc:740: \n",
      "Parameters: { \"n_estimators\" } are not used.\n",
      "\n",
      "  warnings.warn(smsg, UserWarning)\n"
     ]
    },
    {
     "name": "stdout",
     "output_type": "stream",
     "text": [
      "Model 4/12 trained on Bpebb.csv (Time: 0.97 sec)\n"
     ]
    },
    {
     "name": "stderr",
     "output_type": "stream",
     "text": [
      "/Users/yagishinnosuke/Documents/2024-2025 Stanford/CS229/Final Project/myenv/lib/python3.12/site-packages/xgboost/core.py:158: UserWarning: [15:55:12] WARNING: /Users/runner/work/xgboost/xgboost/src/learner.cc:740: \n",
      "Parameters: { \"n_estimators\" } are not used.\n",
      "\n",
      "  warnings.warn(smsg, UserWarning)\n"
     ]
    },
    {
     "name": "stdout",
     "output_type": "stream",
     "text": [
      "Model 5/12 trained on Bpebbqq.csv (Time: 1.00 sec)\n"
     ]
    },
    {
     "name": "stderr",
     "output_type": "stream",
     "text": [
      "/Users/yagishinnosuke/Documents/2024-2025 Stanford/CS229/Final Project/myenv/lib/python3.12/site-packages/xgboost/core.py:158: UserWarning: [15:55:13] WARNING: /Users/runner/work/xgboost/xgboost/src/learner.cc:740: \n",
      "Parameters: { \"n_estimators\" } are not used.\n",
      "\n",
      "  warnings.warn(smsg, UserWarning)\n"
     ]
    },
    {
     "name": "stdout",
     "output_type": "stream",
     "text": [
      "Model 6/12 trained on BpeqqH.csv (Time: 1.05 sec)\n"
     ]
    },
    {
     "name": "stderr",
     "output_type": "stream",
     "text": [
      "/Users/yagishinnosuke/Documents/2024-2025 Stanford/CS229/Final Project/myenv/lib/python3.12/site-packages/xgboost/core.py:158: UserWarning: [15:55:14] WARNING: /Users/runner/work/xgboost/xgboost/src/learner.cc:740: \n",
      "Parameters: { \"n_estimators\" } are not used.\n",
      "\n",
      "  warnings.warn(smsg, UserWarning)\n"
     ]
    },
    {
     "name": "stdout",
     "output_type": "stream",
     "text": [
      "Model 7/12 trained on Bpett.csv (Time: 0.76 sec)\n"
     ]
    },
    {
     "name": "stderr",
     "output_type": "stream",
     "text": [
      "/Users/yagishinnosuke/Documents/2024-2025 Stanford/CS229/Final Project/myenv/lib/python3.12/site-packages/xgboost/core.py:158: UserWarning: [15:55:15] WARNING: /Users/runner/work/xgboost/xgboost/src/learner.cc:740: \n",
      "Parameters: { \"n_estimators\" } are not used.\n",
      "\n",
      "  warnings.warn(smsg, UserWarning)\n"
     ]
    },
    {
     "name": "stdout",
     "output_type": "stream",
     "text": [
      "Model 8/12 trained on Bqq.csv (Time: 1.13 sec)\n"
     ]
    },
    {
     "name": "stderr",
     "output_type": "stream",
     "text": [
      "/Users/yagishinnosuke/Documents/2024-2025 Stanford/CS229/Final Project/myenv/lib/python3.12/site-packages/xgboost/core.py:158: UserWarning: [15:55:16] WARNING: /Users/runner/work/xgboost/xgboost/src/learner.cc:740: \n",
      "Parameters: { \"n_estimators\" } are not used.\n",
      "\n",
      "  warnings.warn(smsg, UserWarning)\n"
     ]
    },
    {
     "name": "stdout",
     "output_type": "stream",
     "text": [
      "Model 9/12 trained on BqqHX.csv (Time: 1.20 sec)\n"
     ]
    },
    {
     "name": "stderr",
     "output_type": "stream",
     "text": [
      "/Users/yagishinnosuke/Documents/2024-2025 Stanford/CS229/Final Project/myenv/lib/python3.12/site-packages/xgboost/core.py:158: UserWarning: [15:55:18] WARNING: /Users/runner/work/xgboost/xgboost/src/learner.cc:740: \n",
      "Parameters: { \"n_estimators\" } are not used.\n",
      "\n",
      "  warnings.warn(smsg, UserWarning)\n"
     ]
    },
    {
     "name": "stdout",
     "output_type": "stream",
     "text": [
      "Model 10/12 trained on BqqX.csv (Time: 0.73 sec)\n",
      "Model 11/12 trained on BqqqqX.csv (Time: 0.72 sec)\n"
     ]
    },
    {
     "name": "stderr",
     "output_type": "stream",
     "text": [
      "/Users/yagishinnosuke/Documents/2024-2025 Stanford/CS229/Final Project/myenv/lib/python3.12/site-packages/xgboost/core.py:158: UserWarning: [15:55:19] WARNING: /Users/runner/work/xgboost/xgboost/src/learner.cc:740: \n",
      "Parameters: { \"n_estimators\" } are not used.\n",
      "\n",
      "  warnings.warn(smsg, UserWarning)\n"
     ]
    },
    {
     "name": "stdout",
     "output_type": "stream",
     "text": [
      "Model 12/12 trained on Btt.csv (Time: 0.68 sec)\n",
      "\n",
      "Training Complete! All models are ready.\n",
      "\n"
     ]
    }
   ],
   "source": [
    "depth = 2\n",
    "n = 100\n",
    "lr = 0.1\n",
    "\n",
    "# Store trained models and test sets\n",
    "trained_xgb_models = []\n",
    "train_test_splits = []\n",
    "\n",
    "print(\"\\nStarting XGBoost Training...\\n\")\n",
    "\n",
    "# Initialize tqdm progress bar\n",
    "with tqdm(total=12, desc=\"Training Progress\", unit=\"model\", leave=True) as pbar:\n",
    "    for i in range(12):\n",
    "        start_time = time.time()  # Track time for each model\n",
    "\n",
    "        # Combine signal + one background dataset\n",
    "        X_combined = np.vstack([X_signal, X_backgrounds[i]])\n",
    "        y_combined = np.concatenate([y_signal, y_backgrounds[i]])\n",
    "\n",
    "        # Split into train (75%) and test (25%)\n",
    "        X_train, X_test, y_train, y_test = train_test_split(X_combined, y_combined, test_size=0.25, random_state=42)\n",
    "\n",
    "        # Convert to XGBoost DMatrix (optimized for speed)\n",
    "        dtrain = xgb.DMatrix(X_train, label=y_train)\n",
    "        dtest = xgb.DMatrix(X_test, label=y_test)\n",
    "\n",
    "        # Define XGBoost parameters\n",
    "        xgb_params = {\n",
    "            \"objective\": \"binary:logistic\",  # Binary classification\n",
    "            \"eval_metric\": \"logloss\",  # Log-loss for binary classification\n",
    "            \"max_depth\": depth,  # Similar to BDT depth\n",
    "            \"learning_rate\": lr,  # Step size\n",
    "            \"n_estimators\": n,  # Number of boosting rounds\n",
    "            \"tree_method\": \"hist\",  # Optimized for speed\n",
    "        }\n",
    "\n",
    "        # Train XGBoost model\n",
    "        xgb_model = xgb.train(params=xgb_params, dtrain=dtrain, num_boost_round=100)\n",
    "\n",
    "        # Store trained model and test data\n",
    "        trained_xgb_models.append(xgb_model)\n",
    "        train_test_splits.append((X_test, y_test))\n",
    "\n",
    "        # Print progress without interfering with tqdm\n",
    "        elapsed_time = time.time() - start_time\n",
    "        tqdm.write(f\"Model {i+1}/12 trained on {background_labels[i]} (Time: {elapsed_time:.2f} sec)\")\n",
    "\n",
    "        # Update progress bar\n",
    "        pbar.update(1)\n",
    "\n",
    "print(\"\\nTraining Complete! All models are ready.\\n\")"
   ]
  },
  {
   "cell_type": "code",
   "execution_count": 8,
   "metadata": {},
   "outputs": [
    {
     "name": "stdout",
     "output_type": "stream",
     "text": [
      "Model 1 saved to xgb_models/xgb_model_bg1_depth2_n100_lr0.1.model\n",
      "Model 2 saved to xgb_models/xgb_model_bg2_depth2_n100_lr0.1.model\n",
      "Model 3 saved to xgb_models/xgb_model_bg3_depth2_n100_lr0.1.model\n",
      "Model 4 saved to xgb_models/xgb_model_bg4_depth2_n100_lr0.1.model\n",
      "Model 5 saved to xgb_models/xgb_model_bg5_depth2_n100_lr0.1.model\n",
      "Model 6 saved to xgb_models/xgb_model_bg6_depth2_n100_lr0.1.model\n",
      "Model 7 saved to xgb_models/xgb_model_bg7_depth2_n100_lr0.1.model\n",
      "Model 8 saved to xgb_models/xgb_model_bg8_depth2_n100_lr0.1.model\n",
      "Model 9 saved to xgb_models/xgb_model_bg9_depth2_n100_lr0.1.model\n",
      "Model 10 saved to xgb_models/xgb_model_bg10_depth2_n100_lr0.1.model\n",
      "Model 11 saved to xgb_models/xgb_model_bg11_depth2_n100_lr0.1.model\n",
      "Model 12 saved to xgb_models/xgb_model_bg12_depth2_n100_lr0.1.model\n"
     ]
    },
    {
     "name": "stderr",
     "output_type": "stream",
     "text": [
      "/Users/yagishinnosuke/Documents/2024-2025 Stanford/CS229/Final Project/myenv/lib/python3.12/site-packages/xgboost/core.py:158: UserWarning: [15:55:34] WARNING: /Users/runner/work/xgboost/xgboost/src/c_api/c_api.cc:1374: Saving model in the UBJSON format as default.  You can use file extension: `json`, `ubj` or `deprecated` to choose between formats.\n",
      "  warnings.warn(smsg, UserWarning)\n"
     ]
    }
   ],
   "source": [
    "# Define the folder to save models\n",
    "model_dir = \"xgb_models\"\n",
    "os.makedirs(model_dir, exist_ok=True)  # Create folder if it doesn't exist\n",
    "\n",
    "# Save each trained XGBoost model\n",
    "for i, model in enumerate(trained_xgb_models):\n",
    "    filename = f\"xgb_model_bg{i+1}_depth{depth}_n{n}_lr{lr}.model\"\n",
    "    filepath = os.path.join(model_dir, filename)\n",
    "    model.save_model(filepath)\n",
    "    print(f\"Model {i+1} saved to {filepath}\")"
   ]
  },
  {
   "cell_type": "code",
   "execution_count": null,
   "metadata": {},
   "outputs": [],
   "source": [
    "# Load trained XGBoost models (uncomment)\n",
    "# loaded_xgb_models = []\n",
    "# for i in range(12):\n",
    "#     filename = f\"xgb_model_bg{i+1}_depth2_n100_lr0.1.model\"\n",
    "#     filepath = os.path.join(model_dir, filename)\n",
    "    \n",
    "#     if os.path.exists(filepath):\n",
    "#         model = xgb.Booster()\n",
    "#         model.load_model(filepath)\n",
    "#         loaded_xgb_models.append(model)\n",
    "#         print(f\"Loaded Model {i+1} from {filepath}\")\n",
    "#     else:\n",
    "#         print(f\"Model {i+1} not found, you may need to train it first.\")"
   ]
  },
  {
   "cell_type": "code",
   "execution_count": 10,
   "metadata": {},
   "outputs": [],
   "source": [
    "# Initialize a 12x13 matrix to store results\n",
    "output_matrix = np.zeros((12, 13))\n",
    "\n",
    "# Evaluate each trained XGBoost model\n",
    "for model_idx, model in enumerate(trained_xgb_models):\n",
    "    for dataset_idx, dataset in enumerate([X_signal] + X_backgrounds):  \n",
    "        # Convert dataset to XGBoost DMatrix (necessary for prediction)\n",
    "        dmatrix = xgb.DMatrix(dataset)\n",
    "        \n",
    "        # Get predicted probability (XGBoost automatically returns probabilities for binary classification)\n",
    "        predictions = model.predict(dmatrix)\n",
    "        \n",
    "        # Store the average probability of being signal\n",
    "        output_matrix[model_idx, dataset_idx] = np.mean(predictions)  # Mean probability"
   ]
  },
  {
   "cell_type": "code",
   "execution_count": 12,
   "metadata": {},
   "outputs": [
    {
     "data": {
      "text/html": [
       "<div>\n",
       "<style scoped>\n",
       "    .dataframe tbody tr th:only-of-type {\n",
       "        vertical-align: middle;\n",
       "    }\n",
       "\n",
       "    .dataframe tbody tr th {\n",
       "        vertical-align: top;\n",
       "    }\n",
       "\n",
       "    .dataframe thead th {\n",
       "        text-align: right;\n",
       "    }\n",
       "</style>\n",
       "<table border=\"1\" class=\"dataframe\">\n",
       "  <thead>\n",
       "    <tr style=\"text-align: right;\">\n",
       "      <th></th>\n",
       "      <th>Signal</th>\n",
       "      <th>Background 1</th>\n",
       "      <th>Background 2</th>\n",
       "      <th>Background 3</th>\n",
       "      <th>Background 4</th>\n",
       "      <th>Background 5</th>\n",
       "      <th>Background 6</th>\n",
       "      <th>Background 7</th>\n",
       "      <th>Background 8</th>\n",
       "      <th>Background 9</th>\n",
       "      <th>Background 10</th>\n",
       "      <th>Background 11</th>\n",
       "      <th>Background 12</th>\n",
       "    </tr>\n",
       "  </thead>\n",
       "  <tbody>\n",
       "    <tr>\n",
       "      <th>Model 1</th>\n",
       "      <td>0.993649</td>\n",
       "      <td>0.473465</td>\n",
       "      <td>0.976086</td>\n",
       "      <td>0.924206</td>\n",
       "      <td>0.813605</td>\n",
       "      <td>0.974714</td>\n",
       "      <td>0.991889</td>\n",
       "      <td>0.979553</td>\n",
       "      <td>0.561648</td>\n",
       "      <td>0.988394</td>\n",
       "      <td>0.805734</td>\n",
       "      <td>0.968984</td>\n",
       "      <td>0.951971</td>\n",
       "    </tr>\n",
       "    <tr>\n",
       "      <th>Model 2</th>\n",
       "      <td>0.804245</td>\n",
       "      <td>0.388103</td>\n",
       "      <td>0.385314</td>\n",
       "      <td>0.325866</td>\n",
       "      <td>0.345268</td>\n",
       "      <td>0.516611</td>\n",
       "      <td>0.690861</td>\n",
       "      <td>0.658530</td>\n",
       "      <td>0.467735</td>\n",
       "      <td>0.690669</td>\n",
       "      <td>0.366423</td>\n",
       "      <td>0.537095</td>\n",
       "      <td>0.826497</td>\n",
       "    </tr>\n",
       "    <tr>\n",
       "      <th>Model 3</th>\n",
       "      <td>0.907747</td>\n",
       "      <td>0.398684</td>\n",
       "      <td>0.688099</td>\n",
       "      <td>0.316064</td>\n",
       "      <td>0.311271</td>\n",
       "      <td>0.541892</td>\n",
       "      <td>0.757652</td>\n",
       "      <td>0.750392</td>\n",
       "      <td>0.505550</td>\n",
       "      <td>0.755028</td>\n",
       "      <td>0.317166</td>\n",
       "      <td>0.606262</td>\n",
       "      <td>0.948601</td>\n",
       "    </tr>\n",
       "    <tr>\n",
       "      <th>Model 4</th>\n",
       "      <td>0.959195</td>\n",
       "      <td>0.719086</td>\n",
       "      <td>0.890480</td>\n",
       "      <td>0.722945</td>\n",
       "      <td>0.145923</td>\n",
       "      <td>0.661975</td>\n",
       "      <td>0.774620</td>\n",
       "      <td>0.782171</td>\n",
       "      <td>0.667691</td>\n",
       "      <td>0.843504</td>\n",
       "      <td>0.222054</td>\n",
       "      <td>0.786753</td>\n",
       "      <td>0.976075</td>\n",
       "    </tr>\n",
       "    <tr>\n",
       "      <th>Model 5</th>\n",
       "      <td>0.906918</td>\n",
       "      <td>0.684170</td>\n",
       "      <td>0.802721</td>\n",
       "      <td>0.631870</td>\n",
       "      <td>0.308784</td>\n",
       "      <td>0.245318</td>\n",
       "      <td>0.373711</td>\n",
       "      <td>0.570032</td>\n",
       "      <td>0.723295</td>\n",
       "      <td>0.694635</td>\n",
       "      <td>0.529048</td>\n",
       "      <td>0.664372</td>\n",
       "      <td>0.910781</td>\n",
       "    </tr>\n",
       "    <tr>\n",
       "      <th>Model 6</th>\n",
       "      <td>0.877920</td>\n",
       "      <td>0.744561</td>\n",
       "      <td>0.815153</td>\n",
       "      <td>0.696199</td>\n",
       "      <td>0.321517</td>\n",
       "      <td>0.240395</td>\n",
       "      <td>0.275199</td>\n",
       "      <td>0.489328</td>\n",
       "      <td>0.782762</td>\n",
       "      <td>0.649883</td>\n",
       "      <td>0.546951</td>\n",
       "      <td>0.664872</td>\n",
       "      <td>0.867263</td>\n",
       "    </tr>\n",
       "    <tr>\n",
       "      <th>Model 7</th>\n",
       "      <td>0.973228</td>\n",
       "      <td>0.920616</td>\n",
       "      <td>0.954620</td>\n",
       "      <td>0.949350</td>\n",
       "      <td>0.873963</td>\n",
       "      <td>0.922836</td>\n",
       "      <td>0.922949</td>\n",
       "      <td>0.488320</td>\n",
       "      <td>0.939087</td>\n",
       "      <td>0.894678</td>\n",
       "      <td>0.915640</td>\n",
       "      <td>0.854072</td>\n",
       "      <td>0.705936</td>\n",
       "    </tr>\n",
       "    <tr>\n",
       "      <th>Model 8</th>\n",
       "      <td>0.928231</td>\n",
       "      <td>0.187360</td>\n",
       "      <td>0.861030</td>\n",
       "      <td>0.740113</td>\n",
       "      <td>0.428797</td>\n",
       "      <td>0.892375</td>\n",
       "      <td>0.943419</td>\n",
       "      <td>0.869361</td>\n",
       "      <td>0.118601</td>\n",
       "      <td>0.919175</td>\n",
       "      <td>0.394982</td>\n",
       "      <td>0.862769</td>\n",
       "      <td>0.258159</td>\n",
       "    </tr>\n",
       "    <tr>\n",
       "      <th>Model 9</th>\n",
       "      <td>0.740843</td>\n",
       "      <td>0.625889</td>\n",
       "      <td>0.676677</td>\n",
       "      <td>0.519521</td>\n",
       "      <td>0.302819</td>\n",
       "      <td>0.293500</td>\n",
       "      <td>0.338638</td>\n",
       "      <td>0.451920</td>\n",
       "      <td>0.677558</td>\n",
       "      <td>0.331556</td>\n",
       "      <td>0.330082</td>\n",
       "      <td>0.336535</td>\n",
       "      <td>0.828503</td>\n",
       "    </tr>\n",
       "    <tr>\n",
       "      <th>Model 10</th>\n",
       "      <td>0.979883</td>\n",
       "      <td>0.795984</td>\n",
       "      <td>0.932743</td>\n",
       "      <td>0.810026</td>\n",
       "      <td>0.253542</td>\n",
       "      <td>0.868784</td>\n",
       "      <td>0.940528</td>\n",
       "      <td>0.904915</td>\n",
       "      <td>0.737079</td>\n",
       "      <td>0.928834</td>\n",
       "      <td>0.255895</td>\n",
       "      <td>0.869282</td>\n",
       "      <td>0.993078</td>\n",
       "    </tr>\n",
       "    <tr>\n",
       "      <th>Model 11</th>\n",
       "      <td>0.989859</td>\n",
       "      <td>0.953631</td>\n",
       "      <td>0.960384</td>\n",
       "      <td>0.917412</td>\n",
       "      <td>0.854891</td>\n",
       "      <td>0.905614</td>\n",
       "      <td>0.953702</td>\n",
       "      <td>0.835546</td>\n",
       "      <td>0.963581</td>\n",
       "      <td>0.923923</td>\n",
       "      <td>0.862860</td>\n",
       "      <td>0.862483</td>\n",
       "      <td>0.994896</td>\n",
       "    </tr>\n",
       "    <tr>\n",
       "      <th>Model 12</th>\n",
       "      <td>0.995151</td>\n",
       "      <td>0.911948</td>\n",
       "      <td>0.996807</td>\n",
       "      <td>0.998315</td>\n",
       "      <td>0.998757</td>\n",
       "      <td>0.998075</td>\n",
       "      <td>0.997658</td>\n",
       "      <td>0.959736</td>\n",
       "      <td>0.863775</td>\n",
       "      <td>0.997617</td>\n",
       "      <td>0.998775</td>\n",
       "      <td>0.997609</td>\n",
       "      <td>0.205740</td>\n",
       "    </tr>\n",
       "  </tbody>\n",
       "</table>\n",
       "</div>"
      ],
      "text/plain": [
       "            Signal  Background 1  Background 2  Background 3  Background 4  \\\n",
       "Model 1   0.993649      0.473465      0.976086      0.924206      0.813605   \n",
       "Model 2   0.804245      0.388103      0.385314      0.325866      0.345268   \n",
       "Model 3   0.907747      0.398684      0.688099      0.316064      0.311271   \n",
       "Model 4   0.959195      0.719086      0.890480      0.722945      0.145923   \n",
       "Model 5   0.906918      0.684170      0.802721      0.631870      0.308784   \n",
       "Model 6   0.877920      0.744561      0.815153      0.696199      0.321517   \n",
       "Model 7   0.973228      0.920616      0.954620      0.949350      0.873963   \n",
       "Model 8   0.928231      0.187360      0.861030      0.740113      0.428797   \n",
       "Model 9   0.740843      0.625889      0.676677      0.519521      0.302819   \n",
       "Model 10  0.979883      0.795984      0.932743      0.810026      0.253542   \n",
       "Model 11  0.989859      0.953631      0.960384      0.917412      0.854891   \n",
       "Model 12  0.995151      0.911948      0.996807      0.998315      0.998757   \n",
       "\n",
       "          Background 5  Background 6  Background 7  Background 8  \\\n",
       "Model 1       0.974714      0.991889      0.979553      0.561648   \n",
       "Model 2       0.516611      0.690861      0.658530      0.467735   \n",
       "Model 3       0.541892      0.757652      0.750392      0.505550   \n",
       "Model 4       0.661975      0.774620      0.782171      0.667691   \n",
       "Model 5       0.245318      0.373711      0.570032      0.723295   \n",
       "Model 6       0.240395      0.275199      0.489328      0.782762   \n",
       "Model 7       0.922836      0.922949      0.488320      0.939087   \n",
       "Model 8       0.892375      0.943419      0.869361      0.118601   \n",
       "Model 9       0.293500      0.338638      0.451920      0.677558   \n",
       "Model 10      0.868784      0.940528      0.904915      0.737079   \n",
       "Model 11      0.905614      0.953702      0.835546      0.963581   \n",
       "Model 12      0.998075      0.997658      0.959736      0.863775   \n",
       "\n",
       "          Background 9  Background 10  Background 11  Background 12  \n",
       "Model 1       0.988394       0.805734       0.968984       0.951971  \n",
       "Model 2       0.690669       0.366423       0.537095       0.826497  \n",
       "Model 3       0.755028       0.317166       0.606262       0.948601  \n",
       "Model 4       0.843504       0.222054       0.786753       0.976075  \n",
       "Model 5       0.694635       0.529048       0.664372       0.910781  \n",
       "Model 6       0.649883       0.546951       0.664872       0.867263  \n",
       "Model 7       0.894678       0.915640       0.854072       0.705936  \n",
       "Model 8       0.919175       0.394982       0.862769       0.258159  \n",
       "Model 9       0.331556       0.330082       0.336535       0.828503  \n",
       "Model 10      0.928834       0.255895       0.869282       0.993078  \n",
       "Model 11      0.923923       0.862860       0.862483       0.994896  \n",
       "Model 12      0.997617       0.998775       0.997609       0.205740  "
      ]
     },
     "execution_count": 12,
     "metadata": {},
     "output_type": "execute_result"
    }
   ],
   "source": [
    "# Create DataFrame for visualization\n",
    "datasets = [\"Signal\"] + [f\"Background {i+1}\" for i in range(12)]\n",
    "model_labels = [f\"Model {i+1}\" for i in range(12)]\n",
    "\n",
    "df_results = pd.DataFrame(output_matrix, index=model_labels, columns=datasets)\n",
    "\n",
    "# Display table\n",
    "df_results"
   ]
  }
 ],
 "metadata": {
  "kernelspec": {
   "display_name": "myenv",
   "language": "python",
   "name": "python3"
  },
  "language_info": {
   "codemirror_mode": {
    "name": "ipython",
    "version": 3
   },
   "file_extension": ".py",
   "mimetype": "text/x-python",
   "name": "python",
   "nbconvert_exporter": "python",
   "pygments_lexer": "ipython3",
   "version": "3.12.4"
  }
 },
 "nbformat": 4,
 "nbformat_minor": 2
}
