{
 "cells": [
  {
   "cell_type": "code",
   "execution_count": null,
   "metadata": {},
   "outputs": [],
   "source": [
    "# Import Libraries\n",
    "import pandas as pd\n",
    "import numpy as np\n",
    "import time\n",
    "from sklearn.model_selection import train_test_split\n",
    "from sklearn.ensemble import AdaBoostClassifier\n",
    "from sklearn.tree import DecisionTreeClassifier\n",
    "from tqdm.notebook import tqdm  # Use notebook version for Jupyter\n",
    "import matplotlib.pyplot as plt\n",
    "import seaborn as sns\n",
    "import os\n",
    "import joblib\n",
    "from datetime import datetime"
   ]
  },
  {
   "cell_type": "code",
   "execution_count": 16,
   "metadata": {},
   "outputs": [
    {
     "name": "stdout",
     "output_type": "stream",
     "text": [
      "Background 0: BWW.csv\n",
      "Background 1: BZH.csv\n",
      "Background 2: BZZ.csv\n",
      "Background 3: Bpebb.csv\n",
      "Background 4: Bpebbqq.csv\n",
      "Background 5: BpeqqH.csv\n",
      "Background 6: Bpett.csv\n",
      "Background 7: Bqq.csv\n",
      "Background 8: BqqHX.csv\n",
      "Background 9: BqqX.csv\n",
      "Background 10: BqqqqX.csv\n",
      "Background 11: Btt.csv\n"
     ]
    }
   ],
   "source": [
    "# Define the folder containing the raw dataset files\n",
    "raw_data_folder = \"raw dataset\"  # Update with your actual folder path\n",
    "\n",
    "# Get all file names in the folder\n",
    "all_files = sorted([f for f in os.listdir(raw_data_folder) if f.endswith(\".csv\")])\n",
    "\n",
    "# Identify signal and background files\n",
    "signal_file = [f for f in all_files if \"signal\" in f.lower()][0]  # Assumes \"signal\" is in filename\n",
    "background_files = sorted([f for f in all_files if \"B\" in f.upper()])  # Assumes \"B\" in filename means background\n",
    "\n",
    "# Load the signal dataset and add a label column\n",
    "signal_df = pd.read_csv(os.path.join(raw_data_folder, signal_file))\n",
    "signal_df[\"label\"] = 1  # Assign label 1 for signal events\n",
    "\n",
    "# Load background datasets and add a label column\n",
    "background_dfs = []\n",
    "background_labels = []  # Store filenames for indexing reference\n",
    "\n",
    "for idx, bg_file in enumerate(background_files):\n",
    "    bg_df = pd.read_csv(os.path.join(raw_data_folder, bg_file))\n",
    "    bg_df[\"label\"] = 0  # Assign label 0 for background events\n",
    "    background_dfs.append(bg_df)\n",
    "    background_labels.append(bg_file)  # Store file name for reference\n",
    "    print(f\"Background {idx}: {bg_file}\")  # Print index and file name\n",
    "\n",
    "# Extract features (X) and labels (y)\n",
    "X_signal = signal_df.iloc[:, :-1]  # Features for signal\n",
    "y_signal = signal_df.iloc[:, -1]   # Labels for signal\n",
    "\n",
    "X_backgrounds = [bg.iloc[:, :-1] for bg in background_dfs]  # Features for each background dataset\n",
    "y_backgrounds = [bg.iloc[:, -1] for bg in background_dfs]  # Labels"
   ]
  },
  {
   "cell_type": "code",
   "execution_count": null,
   "metadata": {},
   "outputs": [
    {
     "name": "stdout",
     "output_type": "stream",
     "text": [
      "\n",
      "Starting BDT Training...\n",
      "\n"
     ]
    },
    {
     "data": {
      "application/vnd.jupyter.widget-view+json": {
       "model_id": "d224e714ad5547d192df6dc6ec28adc6",
       "version_major": 2,
       "version_minor": 0
      },
      "text/plain": [
       "Training Progress:   0%|          | 0/12 [00:00<?, ?model/s]"
      ]
     },
     "metadata": {},
     "output_type": "display_data"
    },
    {
     "name": "stderr",
     "output_type": "stream",
     "text": [
      "/Users/yagishinnosuke/Documents/2024-2025 Stanford/CS229/Final Project/myenv/lib/python3.12/site-packages/sklearn/ensemble/_weight_boosting.py:519: FutureWarning: The parameter 'algorithm' is deprecated in 1.6 and has no effect. It will be removed in version 1.8.\n",
      "  warnings.warn(\n"
     ]
    },
    {
     "name": "stdout",
     "output_type": "stream",
     "text": [
      "✔ Model 1/12 trained on BWW.csv (Time: 212.68 sec)\n"
     ]
    },
    {
     "name": "stderr",
     "output_type": "stream",
     "text": [
      "/Users/yagishinnosuke/Documents/2024-2025 Stanford/CS229/Final Project/myenv/lib/python3.12/site-packages/sklearn/ensemble/_weight_boosting.py:519: FutureWarning: The parameter 'algorithm' is deprecated in 1.6 and has no effect. It will be removed in version 1.8.\n",
      "  warnings.warn(\n"
     ]
    },
    {
     "name": "stdout",
     "output_type": "stream",
     "text": [
      "✔ Model 2/12 trained on BZH.csv (Time: 335.61 sec)\n"
     ]
    },
    {
     "name": "stderr",
     "output_type": "stream",
     "text": [
      "/Users/yagishinnosuke/Documents/2024-2025 Stanford/CS229/Final Project/myenv/lib/python3.12/site-packages/sklearn/ensemble/_weight_boosting.py:519: FutureWarning: The parameter 'algorithm' is deprecated in 1.6 and has no effect. It will be removed in version 1.8.\n",
      "  warnings.warn(\n"
     ]
    },
    {
     "name": "stdout",
     "output_type": "stream",
     "text": [
      "✔ Model 3/12 trained on BZZ.csv (Time: 281.50 sec)\n"
     ]
    },
    {
     "name": "stderr",
     "output_type": "stream",
     "text": [
      "/Users/yagishinnosuke/Documents/2024-2025 Stanford/CS229/Final Project/myenv/lib/python3.12/site-packages/sklearn/ensemble/_weight_boosting.py:519: FutureWarning: The parameter 'algorithm' is deprecated in 1.6 and has no effect. It will be removed in version 1.8.\n",
      "  warnings.warn(\n"
     ]
    },
    {
     "name": "stdout",
     "output_type": "stream",
     "text": [
      "✔ Model 4/12 trained on Bpebb.csv (Time: 280.03 sec)\n"
     ]
    },
    {
     "name": "stderr",
     "output_type": "stream",
     "text": [
      "/Users/yagishinnosuke/Documents/2024-2025 Stanford/CS229/Final Project/myenv/lib/python3.12/site-packages/sklearn/ensemble/_weight_boosting.py:519: FutureWarning: The parameter 'algorithm' is deprecated in 1.6 and has no effect. It will be removed in version 1.8.\n",
      "  warnings.warn(\n"
     ]
    },
    {
     "name": "stdout",
     "output_type": "stream",
     "text": [
      "✔ Model 5/12 trained on Bpebbqq.csv (Time: 302.71 sec)\n"
     ]
    },
    {
     "name": "stderr",
     "output_type": "stream",
     "text": [
      "/Users/yagishinnosuke/Documents/2024-2025 Stanford/CS229/Final Project/myenv/lib/python3.12/site-packages/sklearn/ensemble/_weight_boosting.py:519: FutureWarning: The parameter 'algorithm' is deprecated in 1.6 and has no effect. It will be removed in version 1.8.\n",
      "  warnings.warn(\n"
     ]
    },
    {
     "name": "stdout",
     "output_type": "stream",
     "text": [
      "✔ Model 6/12 trained on BpeqqH.csv (Time: 318.09 sec)\n"
     ]
    },
    {
     "name": "stderr",
     "output_type": "stream",
     "text": [
      "/Users/yagishinnosuke/Documents/2024-2025 Stanford/CS229/Final Project/myenv/lib/python3.12/site-packages/sklearn/ensemble/_weight_boosting.py:519: FutureWarning: The parameter 'algorithm' is deprecated in 1.6 and has no effect. It will be removed in version 1.8.\n",
      "  warnings.warn(\n"
     ]
    },
    {
     "name": "stdout",
     "output_type": "stream",
     "text": [
      "✔ Model 7/12 trained on Bpett.csv (Time: 227.41 sec)\n"
     ]
    },
    {
     "name": "stderr",
     "output_type": "stream",
     "text": [
      "/Users/yagishinnosuke/Documents/2024-2025 Stanford/CS229/Final Project/myenv/lib/python3.12/site-packages/sklearn/ensemble/_weight_boosting.py:519: FutureWarning: The parameter 'algorithm' is deprecated in 1.6 and has no effect. It will be removed in version 1.8.\n",
      "  warnings.warn(\n"
     ]
    },
    {
     "name": "stdout",
     "output_type": "stream",
     "text": [
      "✔ Model 8/12 trained on Bqq.csv (Time: 354.41 sec)\n"
     ]
    },
    {
     "name": "stderr",
     "output_type": "stream",
     "text": [
      "/Users/yagishinnosuke/Documents/2024-2025 Stanford/CS229/Final Project/myenv/lib/python3.12/site-packages/sklearn/ensemble/_weight_boosting.py:519: FutureWarning: The parameter 'algorithm' is deprecated in 1.6 and has no effect. It will be removed in version 1.8.\n",
      "  warnings.warn(\n"
     ]
    },
    {
     "name": "stdout",
     "output_type": "stream",
     "text": [
      "✔ Model 9/12 trained on BqqHX.csv (Time: 399.32 sec)\n"
     ]
    },
    {
     "name": "stderr",
     "output_type": "stream",
     "text": [
      "/Users/yagishinnosuke/Documents/2024-2025 Stanford/CS229/Final Project/myenv/lib/python3.12/site-packages/sklearn/ensemble/_weight_boosting.py:519: FutureWarning: The parameter 'algorithm' is deprecated in 1.6 and has no effect. It will be removed in version 1.8.\n",
      "  warnings.warn(\n"
     ]
    },
    {
     "name": "stdout",
     "output_type": "stream",
     "text": [
      "✔ Model 10/12 trained on BqqX.csv (Time: 227.25 sec)\n"
     ]
    },
    {
     "name": "stderr",
     "output_type": "stream",
     "text": [
      "/Users/yagishinnosuke/Documents/2024-2025 Stanford/CS229/Final Project/myenv/lib/python3.12/site-packages/sklearn/ensemble/_weight_boosting.py:519: FutureWarning: The parameter 'algorithm' is deprecated in 1.6 and has no effect. It will be removed in version 1.8.\n",
      "  warnings.warn(\n"
     ]
    },
    {
     "name": "stdout",
     "output_type": "stream",
     "text": [
      "✔ Model 11/12 trained on BqqqqX.csv (Time: 216.57 sec)\n"
     ]
    },
    {
     "name": "stderr",
     "output_type": "stream",
     "text": [
      "/Users/yagishinnosuke/Documents/2024-2025 Stanford/CS229/Final Project/myenv/lib/python3.12/site-packages/sklearn/ensemble/_weight_boosting.py:519: FutureWarning: The parameter 'algorithm' is deprecated in 1.6 and has no effect. It will be removed in version 1.8.\n",
      "  warnings.warn(\n"
     ]
    },
    {
     "name": "stdout",
     "output_type": "stream",
     "text": [
      "✔ Model 12/12 trained on Btt.csv (Time: 217.96 sec)\n",
      "\n",
      "✅ Training Complete! All models are ready.\n",
      "\n"
     ]
    }
   ],
   "source": [
    "# Train simple BTD models\n",
    "# Store trained models and test sets\n",
    "trained_models = []\n",
    "train_test_splits = []\n",
    "\n",
    "depth = 2\n",
    "n = 100\n",
    "lr = 0.1\n",
    "\n",
    "# for i in range(12):\n",
    "#     # Combine signal + one background dataset\n",
    "#     X_combined = pd.concat([X_signal, X_backgrounds[i]])\n",
    "#     y_combined = np.concatenate([y_signal, y_backgrounds[i]])\n",
    "\n",
    "#     # Split into train (75%) and test (25%)\n",
    "#     X_train, X_test, y_train, y_test = train_test_split(X_combined, y_combined, test_size=0.25, random_state=42)\n",
    "\n",
    "#     # Train a Boosted Decision Tree (BDT)\n",
    "#     bdt = AdaBoostClassifier(DecisionTreeClassifier(max_depth=2), n_estimators=100, learning_rate=0.1)\n",
    "#     bdt.fit(X_train, y_train)\n",
    "\n",
    "#     # Store trained model and test data\n",
    "#     trained_models.append(bdt)\n",
    "#     train_test_splits.append((X_test, y_test))\n",
    "\n",
    "print(\"\\nStarting BDT Training...\\n\")\n",
    "\n",
    "# Initialize progress bar correctly in Jupyter\n",
    "with tqdm(total=12, desc=\"Training Progress\", unit=\"model\", leave=True) as pbar:\n",
    "    for i in range(12):\n",
    "        start_time = time.time()  # Track time for each model\n",
    "\n",
    "        # Combine signal + one background dataset\n",
    "        X_combined = pd.concat([X_signal, X_backgrounds[i]])\n",
    "        y_combined = np.concatenate([y_signal, y_backgrounds[i]])\n",
    "\n",
    "        # Split into train (75%) and test (25%)\n",
    "        X_train, X_test, y_train, y_test = train_test_split(X_combined, y_combined, test_size=0.25, random_state=42)\n",
    "\n",
    "        # Train a Boosted Decision Tree (BDT)\n",
    "        bdt = AdaBoostClassifier(\n",
    "            estimator=DecisionTreeClassifier(max_depth=depth),  \n",
    "            n_estimators=n, \n",
    "            learning_rate=lr,\n",
    "            algorithm=\"SAMME\"\n",
    "        )\n",
    "\n",
    "        bdt.fit(X_train, y_train)\n",
    "\n",
    "        # Store trained model and test data\n",
    "        trained_models.append(bdt)\n",
    "        train_test_splits.append((X_test, y_test))\n",
    "\n",
    "        # Use `tqdm.write()` instead of `print()`\n",
    "        elapsed_time = time.time() - start_time\n",
    "        tqdm.write(f\"✔ Model {i+1}/12 trained on {background_labels[i]} (Time: {elapsed_time:.2f} sec)\")\n",
    "\n",
    "        # Update progress bar\n",
    "        pbar.update(1)\n",
    "\n",
    "tqdm.write(\"\\n✅ Training Complete! All models are ready.\\n\")"
   ]
  },
  {
   "cell_type": "code",
   "execution_count": null,
   "metadata": {},
   "outputs": [
    {
     "name": "stdout",
     "output_type": "stream",
     "text": [
      "Model 1 saved to models/bdt_model_bg1_depth2_n100_lr0.1.joblib\n",
      "Model 2 saved to models/bdt_model_bg2_depth2_n100_lr0.1.joblib\n",
      "Model 3 saved to models/bdt_model_bg3_depth2_n100_lr0.1.joblib\n",
      "Model 4 saved to models/bdt_model_bg4_depth2_n100_lr0.1.joblib\n",
      "Model 5 saved to models/bdt_model_bg5_depth2_n100_lr0.1.joblib\n",
      "Model 6 saved to models/bdt_model_bg6_depth2_n100_lr0.1.joblib\n",
      "Model 7 saved to models/bdt_model_bg7_depth2_n100_lr0.1.joblib\n",
      "Model 8 saved to models/bdt_model_bg8_depth2_n100_lr0.1.joblib\n",
      "Model 9 saved to models/bdt_model_bg9_depth2_n100_lr0.1.joblib\n",
      "Model 10 saved to models/bdt_model_bg10_depth2_n100_lr0.1.joblib\n",
      "Model 11 saved to models/bdt_model_bg11_depth2_n100_lr0.1.joblib\n",
      "Model 12 saved to models/bdt_model_bg12_depth2_n100_lr0.1.joblib\n"
     ]
    }
   ],
   "source": [
    "# Define the folder to save models\n",
    "model_dir = \"models\"\n",
    "os.makedirs(model_dir, exist_ok=True)  # Create folder if it doesn't exist\n",
    "\n",
    "# Save each trained model with detailed filename\n",
    "for i, model in enumerate(trained_models):\n",
    "    filename = f\"bdt_model_bg{i+1}_depth{depth}_n{n}_lr{lr}.joblib\"\n",
    "    filepath = os.path.join(model_dir, filename)\n",
    "    joblib.dump(model, filepath)\n",
    "    print(f\"Model {i+1} saved to {filepath}\")"
   ]
  },
  {
   "cell_type": "code",
   "execution_count": null,
   "metadata": {},
   "outputs": [],
   "source": [
    "# Load models into a list (uncomment)\n",
    "# loaded_models = []\n",
    "# for i in range(12):  # Assuming 12 models\n",
    "#     filename = f\"bdt_model_bg{i+1}_depth2_n100_lr0.1.joblib\"\n",
    "#     filepath = os.path.join(model_dir, filename)\n",
    "    \n",
    "#     if os.path.exists(filepath):  # Check if file exists before loading\n",
    "#         model = joblib.load(filepath)\n",
    "#         loaded_models.append(model)\n",
    "#         print(f\"Loaded Model {i+1} from {filepath}\")\n",
    "#     else:\n",
    "#         print(f\"Model {i+1} not found, you may need to train it first.\")"
   ]
  },
  {
   "cell_type": "code",
   "execution_count": 8,
   "metadata": {},
   "outputs": [],
   "source": [
    "# Initialize a 12x13 matrix to store results\n",
    "output_matrix = np.zeros((12, 13))\n",
    "\n",
    "# Evaluate each trained model\n",
    "for model_idx, model in enumerate(trained_models):\n",
    "    for dataset_idx, dataset in enumerate([X_signal] + X_backgrounds):  \n",
    "        predictions = model.predict_proba(dataset)[:, 1]  # Get probability of being signal\n",
    "        output_matrix[model_idx, dataset_idx] = np.mean(predictions)  # Average probability"
   ]
  },
  {
   "cell_type": "code",
   "execution_count": 11,
   "metadata": {},
   "outputs": [
    {
     "data": {
      "text/html": [
       "<div>\n",
       "<style scoped>\n",
       "    .dataframe tbody tr th:only-of-type {\n",
       "        vertical-align: middle;\n",
       "    }\n",
       "\n",
       "    .dataframe tbody tr th {\n",
       "        vertical-align: top;\n",
       "    }\n",
       "\n",
       "    .dataframe thead th {\n",
       "        text-align: right;\n",
       "    }\n",
       "</style>\n",
       "<table border=\"1\" class=\"dataframe\">\n",
       "  <thead>\n",
       "    <tr style=\"text-align: right;\">\n",
       "      <th></th>\n",
       "      <th>Signal</th>\n",
       "      <th>Background 1</th>\n",
       "      <th>Background 2</th>\n",
       "      <th>Background 3</th>\n",
       "      <th>Background 4</th>\n",
       "      <th>Background 5</th>\n",
       "      <th>Background 6</th>\n",
       "      <th>Background 7</th>\n",
       "      <th>Background 8</th>\n",
       "      <th>Background 9</th>\n",
       "      <th>Background 10</th>\n",
       "      <th>Background 11</th>\n",
       "      <th>Background 12</th>\n",
       "    </tr>\n",
       "  </thead>\n",
       "  <tbody>\n",
       "    <tr>\n",
       "      <th>Model 1</th>\n",
       "      <td>0.829330</td>\n",
       "      <td>0.518853</td>\n",
       "      <td>0.789730</td>\n",
       "      <td>0.729123</td>\n",
       "      <td>0.660186</td>\n",
       "      <td>0.792251</td>\n",
       "      <td>0.826352</td>\n",
       "      <td>0.805004</td>\n",
       "      <td>0.546488</td>\n",
       "      <td>0.816100</td>\n",
       "      <td>0.653740</td>\n",
       "      <td>0.785044</td>\n",
       "      <td>0.741435</td>\n",
       "    </tr>\n",
       "    <tr>\n",
       "      <th>Model 2</th>\n",
       "      <td>0.718104</td>\n",
       "      <td>0.453543</td>\n",
       "      <td>0.479341</td>\n",
       "      <td>0.439948</td>\n",
       "      <td>0.453780</td>\n",
       "      <td>0.558133</td>\n",
       "      <td>0.676278</td>\n",
       "      <td>0.668601</td>\n",
       "      <td>0.496444</td>\n",
       "      <td>0.668854</td>\n",
       "      <td>0.461575</td>\n",
       "      <td>0.572301</td>\n",
       "      <td>0.734033</td>\n",
       "    </tr>\n",
       "    <tr>\n",
       "      <th>Model 3</th>\n",
       "      <td>0.760446</td>\n",
       "      <td>0.469451</td>\n",
       "      <td>0.617597</td>\n",
       "      <td>0.427545</td>\n",
       "      <td>0.422012</td>\n",
       "      <td>0.549956</td>\n",
       "      <td>0.657868</td>\n",
       "      <td>0.675237</td>\n",
       "      <td>0.511196</td>\n",
       "      <td>0.649354</td>\n",
       "      <td>0.423028</td>\n",
       "      <td>0.575309</td>\n",
       "      <td>0.801717</td>\n",
       "    </tr>\n",
       "    <tr>\n",
       "      <th>Model 4</th>\n",
       "      <td>0.782636</td>\n",
       "      <td>0.577541</td>\n",
       "      <td>0.719860</td>\n",
       "      <td>0.620379</td>\n",
       "      <td>0.314716</td>\n",
       "      <td>0.597573</td>\n",
       "      <td>0.654531</td>\n",
       "      <td>0.662603</td>\n",
       "      <td>0.550508</td>\n",
       "      <td>0.685059</td>\n",
       "      <td>0.351786</td>\n",
       "      <td>0.650289</td>\n",
       "      <td>0.794562</td>\n",
       "    </tr>\n",
       "    <tr>\n",
       "      <th>Model 5</th>\n",
       "      <td>0.756040</td>\n",
       "      <td>0.588866</td>\n",
       "      <td>0.671874</td>\n",
       "      <td>0.575086</td>\n",
       "      <td>0.466459</td>\n",
       "      <td>0.407967</td>\n",
       "      <td>0.476452</td>\n",
       "      <td>0.574316</td>\n",
       "      <td>0.616441</td>\n",
       "      <td>0.586483</td>\n",
       "      <td>0.530589</td>\n",
       "      <td>0.565403</td>\n",
       "      <td>0.758752</td>\n",
       "    </tr>\n",
       "    <tr>\n",
       "      <th>Model 6</th>\n",
       "      <td>0.733044</td>\n",
       "      <td>0.603680</td>\n",
       "      <td>0.673059</td>\n",
       "      <td>0.600643</td>\n",
       "      <td>0.461829</td>\n",
       "      <td>0.398319</td>\n",
       "      <td>0.409299</td>\n",
       "      <td>0.529636</td>\n",
       "      <td>0.637337</td>\n",
       "      <td>0.560735</td>\n",
       "      <td>0.544431</td>\n",
       "      <td>0.568625</td>\n",
       "      <td>0.735133</td>\n",
       "    </tr>\n",
       "    <tr>\n",
       "      <th>Model 7</th>\n",
       "      <td>0.787894</td>\n",
       "      <td>0.742779</td>\n",
       "      <td>0.772597</td>\n",
       "      <td>0.764710</td>\n",
       "      <td>0.740871</td>\n",
       "      <td>0.731651</td>\n",
       "      <td>0.730455</td>\n",
       "      <td>0.554853</td>\n",
       "      <td>0.760857</td>\n",
       "      <td>0.731797</td>\n",
       "      <td>0.761290</td>\n",
       "      <td>0.715189</td>\n",
       "      <td>0.644955</td>\n",
       "    </tr>\n",
       "    <tr>\n",
       "      <th>Model 8</th>\n",
       "      <td>0.752996</td>\n",
       "      <td>0.358355</td>\n",
       "      <td>0.697628</td>\n",
       "      <td>0.623820</td>\n",
       "      <td>0.441038</td>\n",
       "      <td>0.715498</td>\n",
       "      <td>0.758033</td>\n",
       "      <td>0.701991</td>\n",
       "      <td>0.291595</td>\n",
       "      <td>0.737040</td>\n",
       "      <td>0.424869</td>\n",
       "      <td>0.698345</td>\n",
       "      <td>0.455589</td>\n",
       "    </tr>\n",
       "    <tr>\n",
       "      <th>Model 9</th>\n",
       "      <td>0.680289</td>\n",
       "      <td>0.611787</td>\n",
       "      <td>0.655951</td>\n",
       "      <td>0.560006</td>\n",
       "      <td>0.446233</td>\n",
       "      <td>0.372373</td>\n",
       "      <td>0.402835</td>\n",
       "      <td>0.502950</td>\n",
       "      <td>0.634751</td>\n",
       "      <td>0.403931</td>\n",
       "      <td>0.458518</td>\n",
       "      <td>0.415250</td>\n",
       "      <td>0.775237</td>\n",
       "    </tr>\n",
       "    <tr>\n",
       "      <th>Model 10</th>\n",
       "      <td>0.820191</td>\n",
       "      <td>0.637893</td>\n",
       "      <td>0.762925</td>\n",
       "      <td>0.687892</td>\n",
       "      <td>0.395469</td>\n",
       "      <td>0.726147</td>\n",
       "      <td>0.778457</td>\n",
       "      <td>0.763381</td>\n",
       "      <td>0.613091</td>\n",
       "      <td>0.765423</td>\n",
       "      <td>0.393905</td>\n",
       "      <td>0.721822</td>\n",
       "      <td>0.845053</td>\n",
       "    </tr>\n",
       "    <tr>\n",
       "      <th>Model 11</th>\n",
       "      <td>0.830062</td>\n",
       "      <td>0.778509</td>\n",
       "      <td>0.800389</td>\n",
       "      <td>0.759157</td>\n",
       "      <td>0.726395</td>\n",
       "      <td>0.722466</td>\n",
       "      <td>0.761616</td>\n",
       "      <td>0.734659</td>\n",
       "      <td>0.784137</td>\n",
       "      <td>0.750652</td>\n",
       "      <td>0.730595</td>\n",
       "      <td>0.719689</td>\n",
       "      <td>0.845817</td>\n",
       "    </tr>\n",
       "    <tr>\n",
       "      <th>Model 12</th>\n",
       "      <td>0.828332</td>\n",
       "      <td>0.745928</td>\n",
       "      <td>0.835531</td>\n",
       "      <td>0.844058</td>\n",
       "      <td>0.850969</td>\n",
       "      <td>0.842128</td>\n",
       "      <td>0.839057</td>\n",
       "      <td>0.787097</td>\n",
       "      <td>0.719315</td>\n",
       "      <td>0.838151</td>\n",
       "      <td>0.852673</td>\n",
       "      <td>0.839221</td>\n",
       "      <td>0.422682</td>\n",
       "    </tr>\n",
       "  </tbody>\n",
       "</table>\n",
       "</div>"
      ],
      "text/plain": [
       "            Signal  Background 1  Background 2  Background 3  Background 4  \\\n",
       "Model 1   0.829330      0.518853      0.789730      0.729123      0.660186   \n",
       "Model 2   0.718104      0.453543      0.479341      0.439948      0.453780   \n",
       "Model 3   0.760446      0.469451      0.617597      0.427545      0.422012   \n",
       "Model 4   0.782636      0.577541      0.719860      0.620379      0.314716   \n",
       "Model 5   0.756040      0.588866      0.671874      0.575086      0.466459   \n",
       "Model 6   0.733044      0.603680      0.673059      0.600643      0.461829   \n",
       "Model 7   0.787894      0.742779      0.772597      0.764710      0.740871   \n",
       "Model 8   0.752996      0.358355      0.697628      0.623820      0.441038   \n",
       "Model 9   0.680289      0.611787      0.655951      0.560006      0.446233   \n",
       "Model 10  0.820191      0.637893      0.762925      0.687892      0.395469   \n",
       "Model 11  0.830062      0.778509      0.800389      0.759157      0.726395   \n",
       "Model 12  0.828332      0.745928      0.835531      0.844058      0.850969   \n",
       "\n",
       "          Background 5  Background 6  Background 7  Background 8  \\\n",
       "Model 1       0.792251      0.826352      0.805004      0.546488   \n",
       "Model 2       0.558133      0.676278      0.668601      0.496444   \n",
       "Model 3       0.549956      0.657868      0.675237      0.511196   \n",
       "Model 4       0.597573      0.654531      0.662603      0.550508   \n",
       "Model 5       0.407967      0.476452      0.574316      0.616441   \n",
       "Model 6       0.398319      0.409299      0.529636      0.637337   \n",
       "Model 7       0.731651      0.730455      0.554853      0.760857   \n",
       "Model 8       0.715498      0.758033      0.701991      0.291595   \n",
       "Model 9       0.372373      0.402835      0.502950      0.634751   \n",
       "Model 10      0.726147      0.778457      0.763381      0.613091   \n",
       "Model 11      0.722466      0.761616      0.734659      0.784137   \n",
       "Model 12      0.842128      0.839057      0.787097      0.719315   \n",
       "\n",
       "          Background 9  Background 10  Background 11  Background 12  \n",
       "Model 1       0.816100       0.653740       0.785044       0.741435  \n",
       "Model 2       0.668854       0.461575       0.572301       0.734033  \n",
       "Model 3       0.649354       0.423028       0.575309       0.801717  \n",
       "Model 4       0.685059       0.351786       0.650289       0.794562  \n",
       "Model 5       0.586483       0.530589       0.565403       0.758752  \n",
       "Model 6       0.560735       0.544431       0.568625       0.735133  \n",
       "Model 7       0.731797       0.761290       0.715189       0.644955  \n",
       "Model 8       0.737040       0.424869       0.698345       0.455589  \n",
       "Model 9       0.403931       0.458518       0.415250       0.775237  \n",
       "Model 10      0.765423       0.393905       0.721822       0.845053  \n",
       "Model 11      0.750652       0.730595       0.719689       0.845817  \n",
       "Model 12      0.838151       0.852673       0.839221       0.422682  "
      ]
     },
     "execution_count": 11,
     "metadata": {},
     "output_type": "execute_result"
    }
   ],
   "source": [
    "# Create DataFrame for visualization\n",
    "datasets = [\"Signal\"] + [f\"Background {i+1}\" for i in range(12)]\n",
    "model_labels = [f\"Model {i+1}\" for i in range(12)]\n",
    "\n",
    "df_results = pd.DataFrame(output_matrix, index=model_labels, columns=datasets)\n",
    "df_results"
   ]
  },
  {
   "cell_type": "code",
   "execution_count": null,
   "metadata": {},
   "outputs": [],
   "source": [
    "# Load trained models\n",
    "\n",
    "model_dir = \"models\"\n",
    "\n",
    "trained_models = []\n",
    "for i in range(12):\n",
    "    filename = f\"bdt_model_bg{i+1}_depth2_n100_lr0.1.joblib\"  # Ensure this matches your saved format\n",
    "    filepath = os.path.join(model_dir, filename)\n",
    "    \n",
    "    if os.path.exists(filepath):\n",
    "        model = joblib.load(filepath)\n",
    "        trained_models.append(model)\n",
    "        print(f\"Loaded Model {i+1} from {filepath}\")\n",
    "    else:\n",
    "        print(f\"Model {i+1} not found, you may need to train it first.\")"
   ]
  }
 ],
 "metadata": {
  "kernelspec": {
   "display_name": "myenv",
   "language": "python",
   "name": "python3"
  },
  "language_info": {
   "codemirror_mode": {
    "name": "ipython",
    "version": 3
   },
   "file_extension": ".py",
   "mimetype": "text/x-python",
   "name": "python",
   "nbconvert_exporter": "python",
   "pygments_lexer": "ipython3",
   "version": "3.12.4"
  }
 },
 "nbformat": 4,
 "nbformat_minor": 2
}
